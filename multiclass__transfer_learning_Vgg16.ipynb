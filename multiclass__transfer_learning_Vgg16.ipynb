{
 "cells": [
  {
   "cell_type": "code",
   "execution_count": 1,
   "metadata": {},
   "outputs": [],
   "source": [
    "import torchvision \n",
    "import torch.nn as nn \n",
    "import torch \n",
    "import torch.nn.functional as F \n",
    "from torchvision import transforms,models,datasets \n",
    "import matplotlib.pyplot as plt \n",
    "from PIL import Image \n",
    "import numpy as np \n",
    "from torch import optim \n",
    "\n",
    "from torch.utils.data import Dataset, DataLoader, random_split, SubsetRandomSampler, WeightedRandomSampler\n",
    "import pandas as pd\n",
    "import seaborn as sns"
   ]
  },
  {
   "cell_type": "code",
   "execution_count": 2,
   "metadata": {},
   "outputs": [],
   "source": [
    "data_dir =  \"D:\\DatasetsCD\\Project_covid_2020_multiclass_newdataset\"\n",
    "\n",
    "transform = transforms.Compose([transforms.Resize(255), \n",
    "    transforms.CenterCrop(224), \n",
    "    transforms.RandomHorizontalFlip(),                            \n",
    "    transforms.ToTensor(),\n",
    "    transforms.Normalize([0.485, 0.456, 0.406], \n",
    "                             [0.229, 0.224, 0.225])]) \n",
    "\n",
    "dataset = torchvision.datasets.ImageFolder(data_dir, transform= transform)"
   ]
  },
  {
   "cell_type": "code",
   "execution_count": 3,
   "metadata": {},
   "outputs": [
    {
     "name": "stdout",
     "output_type": "stream",
     "text": [
      "Length of the train_loader: 98\n",
      "Length of the val_loader: 778\n"
     ]
    }
   ],
   "source": [
    "## spliting dataset 80 % training,20 % VALIDATION \n",
    "train_dataset, val_dataset = random_split(dataset,(3108,778))\n",
    "\n",
    "training_loader = DataLoader(dataset=train_dataset, shuffle=True, batch_size=32)\n",
    "val_loader = DataLoader(dataset=val_dataset, shuffle=False, batch_size=1)\n",
    "\n",
    "print(\"Length of the train_loader:\", len(training_loader))\n",
    "print(\"Length of the val_loader:\", len(val_loader))\n"
   ]
  },
  {
   "cell_type": "code",
   "execution_count": 4,
   "metadata": {},
   "outputs": [
    {
     "name": "stdout",
     "output_type": "stream",
     "text": [
      "Running on the GPU\n"
     ]
    }
   ],
   "source": [
    "### peraparing GPU\n",
    "\n",
    "device = torch.device(\"cuda:0\")\n",
    "device\n",
    "if torch.cuda.is_available():\n",
    "    device = torch.device(\"cuda:0\")  #\n",
    "    print(\"Running on the GPU\")\n",
    "else:\n",
    "    device = torch.device(\"cpu\")\n",
    "    print(\"Running on the CPU\")"
   ]
  },
  {
   "cell_type": "code",
   "execution_count": 5,
   "metadata": {
    "collapsed": true,
    "jupyter": {
     "outputs_hidden": true
    }
   },
   "outputs": [
    {
     "name": "stdout",
     "output_type": "stream",
     "text": [
      "VGG(\n",
      "  (features): Sequential(\n",
      "    (0): Conv2d(3, 64, kernel_size=(3, 3), stride=(1, 1), padding=(1, 1))\n",
      "    (1): ReLU(inplace=True)\n",
      "    (2): Conv2d(64, 64, kernel_size=(3, 3), stride=(1, 1), padding=(1, 1))\n",
      "    (3): ReLU(inplace=True)\n",
      "    (4): MaxPool2d(kernel_size=2, stride=2, padding=0, dilation=1, ceil_mode=False)\n",
      "    (5): Conv2d(64, 128, kernel_size=(3, 3), stride=(1, 1), padding=(1, 1))\n",
      "    (6): ReLU(inplace=True)\n",
      "    (7): Conv2d(128, 128, kernel_size=(3, 3), stride=(1, 1), padding=(1, 1))\n",
      "    (8): ReLU(inplace=True)\n",
      "    (9): MaxPool2d(kernel_size=2, stride=2, padding=0, dilation=1, ceil_mode=False)\n",
      "    (10): Conv2d(128, 256, kernel_size=(3, 3), stride=(1, 1), padding=(1, 1))\n",
      "    (11): ReLU(inplace=True)\n",
      "    (12): Conv2d(256, 256, kernel_size=(3, 3), stride=(1, 1), padding=(1, 1))\n",
      "    (13): ReLU(inplace=True)\n",
      "    (14): Conv2d(256, 256, kernel_size=(3, 3), stride=(1, 1), padding=(1, 1))\n",
      "    (15): ReLU(inplace=True)\n",
      "    (16): MaxPool2d(kernel_size=2, stride=2, padding=0, dilation=1, ceil_mode=False)\n",
      "    (17): Conv2d(256, 512, kernel_size=(3, 3), stride=(1, 1), padding=(1, 1))\n",
      "    (18): ReLU(inplace=True)\n",
      "    (19): Conv2d(512, 512, kernel_size=(3, 3), stride=(1, 1), padding=(1, 1))\n",
      "    (20): ReLU(inplace=True)\n",
      "    (21): Conv2d(512, 512, kernel_size=(3, 3), stride=(1, 1), padding=(1, 1))\n",
      "    (22): ReLU(inplace=True)\n",
      "    (23): MaxPool2d(kernel_size=2, stride=2, padding=0, dilation=1, ceil_mode=False)\n",
      "    (24): Conv2d(512, 512, kernel_size=(3, 3), stride=(1, 1), padding=(1, 1))\n",
      "    (25): ReLU(inplace=True)\n",
      "    (26): Conv2d(512, 512, kernel_size=(3, 3), stride=(1, 1), padding=(1, 1))\n",
      "    (27): ReLU(inplace=True)\n",
      "    (28): Conv2d(512, 512, kernel_size=(3, 3), stride=(1, 1), padding=(1, 1))\n",
      "    (29): ReLU(inplace=True)\n",
      "    (30): MaxPool2d(kernel_size=2, stride=2, padding=0, dilation=1, ceil_mode=False)\n",
      "  )\n",
      "  (avgpool): AdaptiveAvgPool2d(output_size=(7, 7))\n",
      "  (classifier): Sequential(\n",
      "    (0): Linear(in_features=25088, out_features=4096, bias=True)\n",
      "    (1): ReLU(inplace=True)\n",
      "    (2): Linear(in_features=4096, out_features=128, bias=True)\n",
      "    (3): ReLU(inplace=True)\n",
      "    (4): Linear(in_features=128, out_features=3, bias=True)\n",
      "  )\n",
      ")\n"
     ]
    }
   ],
   "source": [
    "model = models.vgg16(pretrained=True).to(device) # freeze all the parameters except the final layer \n",
    "    \n",
    "for param in model.parameters():\n",
    "    param.requires_grad = False   \n",
    "    \n",
    "classifier = nn.Sequential(\n",
    "               nn.Linear(25088, 4096),\n",
    "               nn.ReLU(inplace=True),\n",
    "               nn.Linear(4096, 128),\n",
    "               nn.ReLU(inplace=True),\n",
    "               nn.Linear(128, 3)).to(device)\n",
    "model.classifier = classifier\n",
    "print(model)"
   ]
  },
  {
   "cell_type": "code",
   "execution_count": 6,
   "metadata": {},
   "outputs": [],
   "source": [
    "import torch.optim as optim\n",
    "\n",
    "\n",
    "criterion = nn.CrossEntropyLoss()\n",
    "optimizer = optim.Adam(model.parameters(), lr=0.001)\n"
   ]
  },
  {
   "cell_type": "code",
   "execution_count": 7,
   "metadata": {},
   "outputs": [],
   "source": [
    "def multi_acc(y_pred, y_test):\n",
    "    \n",
    "    y_pred_soft = torch.log_softmax(y_pred,dim = 1)\n",
    "    _,ypred = torch.max(y_pred_soft, dim = 1)\n",
    "    \n",
    "    correct_pred_sum = (ypred == y_test).sum().float()\n",
    "    acc = correct_pred_sum/y_test.shape[0]\n",
    "    acc  = torch.round(acc*100)\n",
    "    \n",
    "    return acc"
   ]
  },
  {
   "cell_type": "code",
   "execution_count": 8,
   "metadata": {},
   "outputs": [],
   "source": [
    "torch.cuda.empty_cache()"
   ]
  },
  {
   "cell_type": "code",
   "execution_count": 9,
   "metadata": {},
   "outputs": [
    {
     "name": "stderr",
     "output_type": "stream",
     "text": [
      " 14%|███████████▊                                                                       | 1/7 [02:40<16:04, 160.83s/it]"
     ]
    },
    {
     "name": "stdout",
     "output_type": "stream",
     "text": [
      "Epoch: 0| train-loss: 0.5147206608719211| val-loss: 0.09450446230596621 | train_accuracy : 89.5 | val_accuracy : 96.91516709511568 \n"
     ]
    },
    {
     "name": "stderr",
     "output_type": "stream",
     "text": [
      " 29%|███████████████████████▋                                                           | 2/7 [04:34<12:13, 146.66s/it]"
     ]
    },
    {
     "name": "stdout",
     "output_type": "stream",
     "text": [
      "Epoch: 1| train-loss: 0.102675814788292| val-loss: 0.10180127021816672 | train_accuracy : 96.29591836734694 | val_accuracy : 96.52956298200515 \n"
     ]
    },
    {
     "name": "stderr",
     "output_type": "stream",
     "text": [
      " 43%|███████████████████████████████████▌                                               | 3/7 [06:28<09:08, 137.03s/it]"
     ]
    },
    {
     "name": "stdout",
     "output_type": "stream",
     "text": [
      "Epoch: 2| train-loss: 0.05920207128403898| val-loss: 0.09244289492794876 | train_accuracy : 98.09183673469387 | val_accuracy : 96.01542416452442 \n"
     ]
    },
    {
     "name": "stderr",
     "output_type": "stream",
     "text": [
      " 57%|███████████████████████████████████████████████▍                                   | 4/7 [08:23<06:30, 130.21s/it]"
     ]
    },
    {
     "name": "stdout",
     "output_type": "stream",
     "text": [
      "Epoch: 3| train-loss: 0.04669612971709433| val-loss: 0.06908774757668204 | train_accuracy : 98.59183673469387 | val_accuracy : 98.0719794344473 \n"
     ]
    },
    {
     "name": "stderr",
     "output_type": "stream",
     "text": [
      " 71%|███████████████████████████████████████████████████████████▎                       | 5/7 [10:18<04:11, 125.78s/it]"
     ]
    },
    {
     "name": "stdout",
     "output_type": "stream",
     "text": [
      "Epoch: 4| train-loss: 0.029791613375798952| val-loss: 0.08367853383947327 | train_accuracy : 99.35714285714286 | val_accuracy : 96.7866323907455 \n"
     ]
    },
    {
     "name": "stderr",
     "output_type": "stream",
     "text": [
      " 86%|███████████████████████████████████████████████████████████████████████▏           | 6/7 [12:16<02:03, 123.50s/it]"
     ]
    },
    {
     "name": "stdout",
     "output_type": "stream",
     "text": [
      "Epoch: 5| train-loss: 0.028960150744083243| val-loss: 0.14494442997078952 | train_accuracy : 99.20408163265306 | val_accuracy : 97.04370179948586 \n"
     ]
    },
    {
     "name": "stderr",
     "output_type": "stream",
     "text": [
      "100%|███████████████████████████████████████████████████████████████████████████████████| 7/7 [14:16<00:00, 122.35s/it]"
     ]
    },
    {
     "name": "stdout",
     "output_type": "stream",
     "text": [
      "Epoch: 6| train-loss: 0.018724689350332186| val-loss: 0.06501866502547513 | train_accuracy : 99.4795918367347 | val_accuracy : 97.94344473007712 \n"
     ]
    },
    {
     "name": "stderr",
     "output_type": "stream",
     "text": [
      "\n"
     ]
    }
   ],
   "source": [
    "from tqdm import tqdm\n",
    "\n",
    "\n",
    "accuracy_stats = {\n",
    "    'train': [],\n",
    "    \"val\": []\n",
    "             }\n",
    "loss_stats = {\n",
    "    'train': [],\n",
    "    \"val\": []\n",
    "             }\n",
    "Epochs= 7\n",
    "\n",
    "\n",
    "for epoch in tqdm(range(Epochs)):\n",
    "    \n",
    "    train_epoch_loss = 0\n",
    "    val_epoch_loss = 0\n",
    "    \n",
    "    \n",
    "    train_epoch_acc = 0\n",
    "    val_epoch_acc = 0\n",
    "    \n",
    "    model.train()\n",
    "    for x_train_batch, y_train_batch in training_loader:\n",
    "        \n",
    "        x_train_batch, y_train_batch = x_train_batch.to(device), y_train_batch.to(device)\n",
    "        \n",
    "        optimizer.zero_grad()\n",
    "        output = model(x_train_batch)\n",
    "        \n",
    "        loss_train = criterion(output,y_train_batch)\n",
    "        train_acc = multi_acc(output,y_train_batch)\n",
    "        \n",
    "        loss_train.backward()\n",
    "        optimizer.step()\n",
    "        \n",
    "        train_epoch_loss +=loss_train.item()  ## sum loss over all batches for each epoch  \n",
    "        train_epoch_acc += train_acc.item()\n",
    "        \n",
    "    #### validation \n",
    "    \n",
    "    with torch.no_grad():\n",
    "        model.eval()\n",
    "        \n",
    "        for x_val_batch, y_val_batch in val_loader:\n",
    "            \n",
    "            x_val_batch, y_val_batch = x_val_batch.to(device), y_val_batch.to(device)\n",
    "            \n",
    "            val_output = model(x_val_batch)\n",
    "            val_output = torch.unsqueeze(val_output, 0)\n",
    "            \n",
    "            val_loss = criterion(val_output, y_val_batch)\n",
    "            val_acc = multi_acc(val_output, y_val_batch)\n",
    "    \n",
    "            val_epoch_loss += val_loss.item()\n",
    "            val_epoch_acc += val_acc.item()\n",
    "            \n",
    "    loss_stats['train'].append(train_epoch_loss/len(training_loader))\n",
    "    loss_stats['val'].append(val_epoch_loss/len(val_loader))\n",
    "    accuracy_stats['train'].append(train_epoch_acc/len(training_loader))\n",
    "    accuracy_stats['val'].append(val_epoch_acc/len(val_loader))\n",
    "    \n",
    "    \n",
    "    print(f\"Epoch: {epoch}| train-loss: {train_epoch_loss/len(training_loader)}| val-loss: {val_epoch_loss/len(val_loader)} | train_accuracy : {train_epoch_acc/len(training_loader)} | val_accuracy : {val_epoch_acc/len(val_loader)} \")\n",
    "      "
   ]
  },
  {
   "cell_type": "code",
   "execution_count": 10,
   "metadata": {},
   "outputs": [
    {
     "data": {
      "image/png": "[encoded data removed]",
      "text/plain": [
       "<Figure size 432x288 with 1 Axes>"
      ]
     },
     "metadata": {
      "needs_background": "light"
     },
     "output_type": "display_data"
    }
   ],
   "source": [
    "for v,c in sorted(loss_stats.items()):\n",
    "    plt.plot(c,label=v)\n",
    "plt.xlabel('epochs')\n",
    "plt.title('Losses')\n",
    "plt.legend()\n",
    "plt.show()\n",
    "#plt.plot(loss"
   ]
  },
  {
   "cell_type": "code",
   "execution_count": 11,
   "metadata": {},
   "outputs": [
    {
     "data": {
      "image/png": "[encoded data removed]",
      "text/plain": [
       "<Figure size 432x288 with 1 Axes>"
      ]
     },
     "metadata": {
      "needs_background": "light"
     },
     "output_type": "display_data"
    }
   ],
   "source": [
    "for v,c in sorted(accuracy_stats.items()):\n",
    "    plt.plot(c,label=v)\n",
    "plt.xlabel('epochs')\n",
    "plt.title('acurracys')\n",
    "plt.legend()\n",
    "plt.show()"
   ]
  },
  {
   "cell_type": "code",
   "execution_count": 12,
   "metadata": {},
   "outputs": [],
   "source": [
    "torch.save(model.state_dict(), 'model_weights_vgg16_Multiclass_transferlearning.pth')"
   ]
  },
  {
   "cell_type": "code",
   "execution_count": 15,
   "metadata": {},
   "outputs": [],
   "source": [
    "#preparing test data \n",
    "data_dir = \"D:\\DatasetsCD\\Test_set_Multiclasse\"\n",
    "\n",
    "\n",
    "transforms2 = transforms.Compose([transforms.Resize((224,224)),\n",
    "                                  \n",
    "                                  transforms.ToTensor(),\n",
    "                                 transforms.Normalize(mean=[0.485, 0.456, 0.406],\n",
    "                                                       std=[0.229, 0.224, 0.225])\n",
    "                                                           ])\n",
    "\n",
    "dataset2 =datasets.ImageFolder(data_dir, transform= transforms2)\n",
    "test_loader = torch.utils.data.DataLoader(dataset2, batch_size=1 ,shuffle=True) "
   ]
  },
  {
   "cell_type": "code",
   "execution_count": 16,
   "metadata": {},
   "outputs": [
    {
     "name": "stdout",
     "output_type": "stream",
     "text": [
      "854\n"
     ]
    },
    {
     "data": {
      "text/plain": [
       "{'COVID': 0, 'NORMAL': 1, 'Pneumonia': 2}"
      ]
     },
     "execution_count": 16,
     "metadata": {},
     "output_type": "execute_result"
    }
   ],
   "source": [
    "print(len(test_loader))\n",
    "dataset2.class_to_idx"
   ]
  },
  {
   "cell_type": "code",
   "execution_count": null,
   "metadata": {},
   "outputs": [],
   "source": []
  },
  {
   "cell_type": "code",
   "execution_count": 33,
   "metadata": {},
   "outputs": [],
   "source": [
    "y_true =[]\n",
    "y_predicted = []\n",
    "\n",
    "with torch.no_grad():\n",
    "    for batch_x, batch_y in test_loader:\n",
    "        batch_x,batch_y = batch_x.to(device),batch_y.to(device)\n",
    "        \n",
    "        y_test_pred = model(batch_x)\n",
    "        \n",
    "        y_pred_soft = torch.log_softmax(y_test_pred,dim = 1)\n",
    "        _, y_pred = torch.max(y_pred_soft,dim = 1)\n",
    "       \n",
    "        y_predicted.append(y_pred.cpu().numpy())\n",
    "        y_true.append(batch_y.cpu().numpy())"
   ]
  },
  {
   "cell_type": "code",
   "execution_count": 39,
   "metadata": {},
   "outputs": [
    {
     "name": "stdout",
     "output_type": "stream",
     "text": [
      "              precision    recall  f1-score   support\n",
      "\n",
      "     Covid 0       0.99      0.99      0.99       366\n",
      "    NORMAL 1       0.96      0.90      0.93       256\n",
      " Pneumonia 2       0.90      0.96      0.93       232\n",
      "\n",
      "    accuracy                           0.95       854\n",
      "   macro avg       0.95      0.95      0.95       854\n",
      "weighted avg       0.95      0.95      0.95       854\n",
      "\n"
     ]
    }
   ],
   "source": [
    "from sklearn.metrics import classification_report, confusion_matrix\n",
    "print(classification_report(y_predicted, y_true, target_names=['Covid 0', 'NORMAL 1', 'Pneumonia 2']))"
   ]
  },
  {
   "cell_type": "code",
   "execution_count": 37,
   "metadata": {},
   "outputs": [
    {
     "data": {
      "text/plain": [
       "array([[362,   0,   4],\n",
       "       [  4, 230,  22],\n",
       "       [  0,  10, 222]], dtype=int64)"
      ]
     },
     "execution_count": 37,
     "metadata": {},
     "output_type": "execute_result"
    }
   ],
   "source": [
    "conf = confusion_matrix(y_predicted,y_true)\n",
    "conf"
   ]
  },
  {
   "cell_type": "code",
   "execution_count": 49,
   "metadata": {},
   "outputs": [
    {
     "data": {
      "text/plain": [
       "{0: 'COVID', 1: 'NORMAL', 2: 'Pneumonia'}"
      ]
     },
     "execution_count": 49,
     "metadata": {},
     "output_type": "execute_result"
    }
   ],
   "source": [
    "idx2class = {v: k for k, v in dataset2.class_to_idx.items()}\n",
    "\n",
    "idx2class"
   ]
  },
  {
   "cell_type": "code",
   "execution_count": 48,
   "metadata": {},
   "outputs": [
    {
     "data": {
      "text/plain": [
       "<matplotlib.axes._subplots.AxesSubplot at 0x26cf2fe8848>"
      ]
     },
     "execution_count": 48,
     "metadata": {},
     "output_type": "execute_result"
    },
    {
     "data": {
      "image/png": "[encoded data removed]",
      "text/plain": [
       "<Figure size 504x360 with 2 Axes>"
      ]
     },
     "metadata": {},
     "output_type": "display_data"
    }
   ],
   "source": [
    "confusion_matrix_df = pd.DataFrame(confusion_matrix(y_true, y_predicted)).rename(columns=idx2class, index=idx2class)\n",
    "fig, ax = plt.subplots(figsize=(7,5))         \n",
    "sns.heatmap(confusion_matrix_df, annot=True, ax=ax)"
   ]
  },
  {
   "cell_type": "code",
   "execution_count": null,
   "metadata": {},
   "outputs": [],
   "source": []
  },
  {
   "cell_type": "code",
   "execution_count": null,
   "metadata": {},
   "outputs": [],
   "source": []
  },
  {
   "cell_type": "code",
   "execution_count": null,
   "metadata": {},
   "outputs": [],
   "source": []
  },
  {
   "cell_type": "code",
   "execution_count": null,
   "metadata": {},
   "outputs": [],
   "source": []
  },
  {
   "cell_type": "code",
   "execution_count": null,
   "metadata": {},
   "outputs": [],
   "source": []
  },
  {
   "cell_type": "code",
   "execution_count": null,
   "metadata": {},
   "outputs": [],
   "source": []
  },
  {
   "cell_type": "code",
   "execution_count": null,
   "metadata": {},
   "outputs": [],
   "source": []
  },
  {
   "cell_type": "code",
   "execution_count": null,
   "metadata": {},
   "outputs": [],
   "source": []
  },
  {
   "cell_type": "code",
   "execution_count": null,
   "metadata": {},
   "outputs": [],
   "source": []
  },
  {
   "cell_type": "code",
   "execution_count": null,
   "metadata": {},
   "outputs": [],
   "source": []
  },
  {
   "cell_type": "code",
   "execution_count": null,
   "metadata": {},
   "outputs": [],
   "source": []
  },
  {
   "cell_type": "code",
   "execution_count": null,
   "metadata": {},
   "outputs": [],
   "source": []
  },
  {
   "cell_type": "code",
   "execution_count": null,
   "metadata": {},
   "outputs": [],
   "source": []
  }
 ],
 "metadata": {
  "kernelspec": {
   "display_name": "Python 3",
   "language": "python",
   "name": "python3"
  },
  "language_info": {
   "codemirror_mode": {
    "name": "ipython",
    "version": 3
   },
   "file_extension": ".py",
   "mimetype": "text/x-python",
   "name": "python",
   "nbconvert_exporter": "python",
   "pygments_lexer": "ipython3",
   "version": "3.7.4"
  }
 },
 "nbformat": 4,
 "nbformat_minor": 4
}
